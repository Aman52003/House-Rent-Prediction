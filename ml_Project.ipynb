{
  "nbformat": 4,
  "nbformat_minor": 0,
  "metadata": {
    "colab": {
      "provenance": []
    },
    "kernelspec": {
      "name": "python3",
      "display_name": "Python 3"
    },
    "language_info": {
      "name": "python"
    }
  },
  "cells": [
    {
      "cell_type": "code",
      "execution_count": null,
      "metadata": {
        "id": "iBRXfP-RFZpe"
      },
      "outputs": [],
      "source": [
        "import pandas as pd\n",
        "import numpy as np\n",
        "import seaborn as sns\n",
        "import plotly.express as px\n",
        "import missingno\n",
        "import matplotlib.pyplot as plt\n",
        "from plotly.subplots import make_subplots\n",
        "import plotly.graph_objects as go\n",
        "import plotly.figure_factory as ff\n",
        "import matplotlib.pyplot as plt\n",
        "import matplotlib.pyplot as plt\n",
        "import matplotlib\n",
        "from sklearn.cluster import KMeans"
      ]
    },
    {
      "cell_type": "code",
      "source": [
        "df=pd.read_csv(\"/content/drive/MyDrive/_All_Cities_Cleaned.csv\")\n",
        "df.drop_duplicates(inplace = True)\n",
        "df.head()\n"
      ],
      "metadata": {
        "id": "Quj7r2hzGo-P"
      },
      "execution_count": null,
      "outputs": []
    },
    {
      "cell_type": "code",
      "source": [
        "df.tail()"
      ],
      "metadata": {
        "id": "o4kY19i4G-MR"
      },
      "execution_count": null,
      "outputs": []
    },
    {
      "cell_type": "code",
      "source": [
        "df.info()"
      ],
      "metadata": {
        "id": "HQ3ODC2lHJ7x"
      },
      "execution_count": null,
      "outputs": []
    },
    {
      "cell_type": "code",
      "source": [
        "\n",
        "df[[\"seller_type\", \"layout_type\", \"property_type\", \"furnish_type\", \"city\" , \"locality\"]].nunique()\n"
      ],
      "metadata": {
        "id": "exAjKooAHMND"
      },
      "execution_count": null,
      "outputs": []
    },
    {
      "cell_type": "code",
      "source": [
        "des_stats = df.describe(exclude = ['object']).drop(index = ['count'], axis = 0).T\n",
        "skew = []\n",
        "kurt = []\n",
        "num_cols = df.select_dtypes(exclude = ['object']).columns\n",
        "for col in num_cols:\n",
        "    skew.append(df[col].skew().round(1))\n",
        "    kurt.append(df[col].kurt().round(1))\n",
        "\n",
        "stats = pd.DataFrame({'skew':skew,'kurt':kurt}, index = num_cols)\n",
        "\n",
        "all_stats = pd.merge(left = des_stats,right = stats, left_index = True, right_index = True)"
      ],
      "metadata": {
        "id": "3zEpsOw9AQSB"
      },
      "execution_count": null,
      "outputs": []
    },
    {
      "cell_type": "code",
      "source": [
        "### univariate ananalysis\n",
        "colors = ['#FB5B68','#FFEB48','#2676A1','#FFBDB0',]\n",
        "\n",
        "fig =  plt.figure(figsize = (17,8), dpi = 90)\n",
        "fig.patch.set_facecolor('#f5f6f6')\n",
        "\n",
        "\n",
        "                                                    ##### Note to reader I could have used subplots feature, but going with grid\n",
        "                                                           #spec for more controlover plots\n",
        "gs = fig.add_gridspec(2,3)\n",
        "gs.update(wspace =0.1,hspace = 0.2)\n",
        "\n",
        "\n",
        "ax0 = fig.add_subplot(gs[0,0])\n",
        "ax1 = fig.add_subplot(gs[0,1])\n",
        "ax2 = fig.add_subplot(gs[0,2])\n",
        "\n",
        "ax3 = fig.add_subplot(gs[1,0])\n",
        "ax4 = fig.add_subplot(gs[1,1])\n",
        "ax5 = fig.add_subplot(gs[1,2])\n",
        "\n",
        "\n",
        "\n",
        "\n",
        "axes = [ax0,ax1,ax2,ax3, ax4,ax5,]\n",
        "\n",
        "\n",
        "for ax in axes:\n",
        "    ax.set_facecolor('#f5f6f6')\n",
        "    ax.tick_params(axis='x',\n",
        "                   labelsize = 1, which = 'major',\n",
        "                   direction = 'out',pad = 2,\n",
        "                   length = 1)\n",
        "    ax.tick_params(axis='y', colors= 'black')\n",
        "    ax.axes.get_yaxis().set_visible(False)\n",
        "    ax.axes.get_xaxis().set_visible(True)\n",
        "\n",
        "    for loc in ['left', 'right', 'top', 'bottom']:\n",
        "        ax.spines[loc].set_visible(False)\n",
        "\n",
        "cols = df.select_dtypes(exclude = ['int64','float64','float']).columns\n",
        "labels = ['seller_type', 'layout_type', 'property_type', 'locality', 'furnish_type Size', 'city']\n",
        "\n",
        "\n",
        "\n",
        "\n",
        "\n",
        "### ax0- carat\n",
        "s = 250\n",
        "\n",
        "for col,ax,label in zip(cols,axes,labels):\n",
        "    ax.bar(x = df[col].value_counts().index, height = df[col].value_counts().values, width = 0.1, color = colors[0] )\n",
        "    ax.scatter(x = df[col].value_counts().index, y = df[col].value_counts().values, s = s,color = colors[0] )\n",
        "    ht = df[col].value_counts().values.max()\n",
        "    ax.text(-1,ht/2.2 ,label,**{'font':'serif', 'size':12, 'weight':'bold', 'rotation' : 'vertical'}, alpha = 1)\n",
        "    ax.set_xticklabels(df[col].value_counts().index , rotation = 90,**{'font':'serif', 'size':7.5, 'weight':'bold'}, alpha = 1)\n",
        "\n",
        "\n",
        "\n",
        "\n",
        "\n",
        "ax0.set_xlim(-1,5)\n",
        "ax1.set_xlim(-1,7)\n",
        "ax2.set_xlim(-1,10)\n",
        "ax3.set_xlim(-1.6,4)\n",
        "ax4.set_xlim(-2,5)\n",
        "ax5.set_xlim(-2,5)\n",
        "\n",
        "\n",
        "\n",
        "\n",
        "\n",
        "\n",
        "\n",
        "\n",
        "fig.show()\n",
        "\n"
      ],
      "metadata": {
        "id": "u2eG9txco4br"
      },
      "execution_count": null,
      "outputs": []
    },
    {
      "cell_type": "code",
      "source": [
        "df1=round(df[['price', 'property_type']].groupby('property_type').apply(lambda x: x.mean()))\n",
        "df1.sort_values('price',inplace=True)\n",
        "df1.reset_index(inplace=True)\n",
        "\n",
        "fig, ax = plt.subplots(figsize=(10,6), dpi= 80)\n",
        "ax.vlines(x=df1.index,ymin=0,ymax=df1.price,color = colors[3],alpha=0.7,linewidth=2)\n",
        "ax.scatter(x=df1.index, y=df1.price, s=75, color='firebrick', alpha=0.7)\n",
        "\n",
        "# Title, Label, Ticks and Ylim\n",
        "#ax.set_title('Average of Property Type With Price', fontdict={'size':22})\n",
        "\n",
        "ax.set_xticks(df1.index)\n",
        "ax.set_xticklabels(df1.property_type.str.upper(), rotation=45, fontdict={'horizontalalignment': 'right', 'size':12})\n",
        "\n",
        "ax.set_facecolor('#f5f6f6')\n",
        "for loc in ['left', 'right', 'top', 'bottom']:\n",
        "        ax.spines[loc].set_visible(False)\n",
        "for row in df1.itertuples():\n",
        "    ax.text(row.Index, row.price+.5, s=round(row.price, 2), horizontalalignment= 'center', verticalalignment='bottom', fontsize=14)\n",
        "\n",
        "fig.text(0.2,0.98,\"Average of Price with Property Type:\",**{'font':'serif', 'size':18,'weight':'bold'}, alpha = 1)\n",
        "fig.text(0.1,0.90,\"As we can see Pent house is most costly:\",**{'font':'serif', 'size':12,'weight':'bold'}, alpha = 1)\n",
        "\n",
        "plt.show()\n"
      ],
      "metadata": {
        "id": "wC-1wuOvpXwP"
      },
      "execution_count": null,
      "outputs": []
    },
    {
      "cell_type": "code",
      "source": [
        "df2=round(df[['price', 'seller_type']].groupby('seller_type').apply(lambda x: x.mean()))\n",
        "df2.sort_values('price',inplace=True)\n",
        "df2.reset_index(inplace=True)\n",
        "\n",
        "fig, ax = plt.subplots(figsize=(10,6), dpi= 80)\n",
        "ax.vlines(x=df2.index,ymin=0,ymax=df2.price,color = colors[3],alpha=0.7,linewidth=2)\n",
        "ax.scatter(x=df2.index, y=df2.price, s=75, color='firebrick', alpha=0.7)\n",
        "\n",
        "# Title, Label, Ticks and Ylim\n",
        "#ax.set_title('Average of Property Type With Price', fontdict={'size':22})\n",
        "\n",
        "ax.set_xticks(df2.index)\n",
        "ax.set_xticklabels(df2.seller_type.str.upper(), rotation=45, fontdict={'horizontalalignment': 'right', 'size':12})\n",
        "\n",
        "ax.set_facecolor('#f5f6f6')\n",
        "for loc in ['left', 'right', 'top', 'bottom']:\n",
        "        ax.spines[loc].set_visible(False)\n",
        "for row in df2.itertuples():\n",
        "    ax.text(row.Index, row.price+.5, s=round(row.price, 2), horizontalalignment= 'center', verticalalignment='bottom', fontsize=14)\n",
        "\n",
        "fig.text(0.2,0.98,\"Average of Price with Seller Type:\",**{'font':'serif', 'size':18,'weight':'bold'}, alpha = 1)\n",
        "fig.text(0.1,0.90,\"As we can see Pent house is most costly:\",**{'font':'serif', 'size':12,'weight':'bold'}, alpha = 1)\n",
        "\n",
        "plt.show()\n"
      ],
      "metadata": {
        "id": "VYEupur5pvtP"
      },
      "execution_count": null,
      "outputs": []
    },
    {
      "cell_type": "code",
      "source": [
        "df3=round(df[['price', 'city']].groupby('city').apply(lambda x: x.mean()))\n",
        "df3.sort_values('price',inplace=True)\n",
        "df3.reset_index(inplace=True)\n",
        "\n",
        "fig, ax = plt.subplots(figsize=(10,6), dpi= 80)\n",
        "ax.vlines(x=df3.index,ymin=0,ymax=df3.price,color = colors[3],alpha=0.7,linewidth=2)\n",
        "ax.scatter(x=df3.index, y=df3.price, s=75, color='firebrick', alpha=0.7)\n",
        "\n",
        "# Title, Label, Ticks and Ylim\n",
        "#ax.set_title('Average of Property Type With Price', fontdict={'size':22})\n",
        "\n",
        "ax.set_xticks(df3.index)\n",
        "ax.set_xticklabels(df3.city.str.upper(), rotation=45, fontdict={'horizontalalignment': 'right', 'size':12})\n",
        "\n",
        "ax.set_facecolor('#f5f6f6')\n",
        "for loc in ['left', 'right', 'top', 'bottom']:\n",
        "        ax.spines[loc].set_visible(False)\n",
        "for row in df3.itertuples():\n",
        "    ax.text(row.Index, row.price+.5, s=round(row.price, 2), horizontalalignment= 'center', verticalalignment='bottom', fontsize=14)\n",
        "\n",
        "fig.text(0.2,0.98,\"Average of Price with city:\",**{'font':'serif', 'size':18,'weight':'bold'}, alpha = 1)\n",
        "fig.text(0.1,0.90,\"As we can see Pent house is most costly:\",**{'font':'serif', 'size':12,'weight':'bold'}, alpha = 1)\n",
        "\n",
        "plt.show()\n"
      ],
      "metadata": {
        "id": "xWTroomepyKw"
      },
      "execution_count": null,
      "outputs": []
    },
    {
      "cell_type": "code",
      "source": [
        "df.head()"
      ],
      "metadata": {
        "id": "i8EUGJIStoLY"
      },
      "execution_count": null,
      "outputs": []
    },
    {
      "cell_type": "code",
      "source": [
        "df[\"price\"]=np.log(df[\"price\"])\n",
        "df[\"area\"]=np.log(df[\"area\"])"
      ],
      "metadata": {
        "id": "4lQyjPeZtzYh"
      },
      "execution_count": null,
      "outputs": []
    },
    {
      "cell_type": "code",
      "source": [
        "sns.kdeplot(df[\"price\"])"
      ],
      "metadata": {
        "id": "GtZ9EPz1t3BV"
      },
      "execution_count": null,
      "outputs": []
    },
    {
      "cell_type": "code",
      "source": [
        "df[\"seller_type\"]=df[\"seller_type\"].map({'OWNER':0,'AGENT':1,'BUILDER':2})\n",
        "df[\"layout_type\"]=df[\"layout_type\"].map({'BHK':0,'RK':1})\n",
        "df[\"property_type\"]=df[\"property_type\"].map({'Apartment':0,'Studio Apartment':1,'Independent House':2,'Independent Floor':3,'Villa':4,'Penthouse':5})\n",
        "df[\"furnish_type\"]=df[\"furnish_type\"].map({'Furnished':0,'Semi-Furnished':1,'Unfurnished':2})\n",
        "df[\"city\"]=df[\"city\"].map({'Ahmedabad':0,'Bangalore':1,'Chennai':2,'Delhi':3,'Hyderabad':4,'Kolkata':5,'Mumbai':6,'Pune':7})\n",
        "\n",
        "\n",
        "\n"
      ],
      "metadata": {
        "id": "mOFI6GD5t6PC"
      },
      "execution_count": null,
      "outputs": []
    },
    {
      "cell_type": "code",
      "source": [
        "df.head()"
      ],
      "metadata": {
        "id": "I4mXoudHuGUc"
      },
      "execution_count": null,
      "outputs": []
    },
    {
      "cell_type": "code",
      "source": [
        "dum=pd.get_dummies(df[\"locality\"],drop_first=True)"
      ],
      "metadata": {
        "id": "kGVeP1nXuJdw"
      },
      "execution_count": null,
      "outputs": []
    },
    {
      "cell_type": "code",
      "source": [
        "dum.columns"
      ],
      "metadata": {
        "id": "008Zu14RvqlP"
      },
      "execution_count": null,
      "outputs": []
    },
    {
      "cell_type": "code",
      "source": [
        "dum2=pd.DataFrame(dum,columns=dum.columns)"
      ],
      "metadata": {
        "id": "xNGWXDQEvsAY"
      },
      "execution_count": null,
      "outputs": []
    },
    {
      "cell_type": "code",
      "source": [
        "df2=pd.concat([df,dum2],axis=1)"
      ],
      "metadata": {
        "id": "k96rZYpbvt1U"
      },
      "execution_count": null,
      "outputs": []
    },
    {
      "cell_type": "code",
      "source": [
        "df2.drop(\"locality\",axis=1,inplace=True)"
      ],
      "metadata": {
        "id": "PPR9tI9vvvLP"
      },
      "execution_count": null,
      "outputs": []
    },
    {
      "cell_type": "code",
      "source": [
        "df2.head()"
      ],
      "metadata": {
        "id": "XGWpYnj7vwpR"
      },
      "execution_count": null,
      "outputs": []
    },
    {
      "cell_type": "code",
      "source": [
        "X=df2.drop(\"price\",axis=1)\n",
        "# X=df2.drop(\"locality\",axis=1)\n",
        "y=df2[\"price\"]"
      ],
      "metadata": {
        "id": "Eq1aeb-IvzzD"
      },
      "execution_count": null,
      "outputs": []
    },
    {
      "cell_type": "code",
      "source": [
        "y"
      ],
      "metadata": {
        "id": "M0fTwo8CwSFv"
      },
      "execution_count": null,
      "outputs": []
    },
    {
      "cell_type": "code",
      "source": [
        "from sklearn.model_selection import train_test_split\n",
        "X_train,X_test,y_train,y_test=train_test_split(X,y,test_size=0.2,random_state=0)\n",
        "\n"
      ],
      "metadata": {
        "id": "10wPkTSFwUif"
      },
      "execution_count": null,
      "outputs": []
    },
    {
      "cell_type": "code",
      "source": [
        "from sklearn.linear_model import LinearRegression\n",
        "model=LinearRegression()\n",
        "model.fit(X_train,y_train)\n",
        "y_pred=model.predict(X_test)"
      ],
      "metadata": {
        "id": "p_8PqdXHwZl5"
      },
      "execution_count": null,
      "outputs": []
    },
    {
      "cell_type": "code",
      "source": [
        "model.score(X_train,y_train)"
      ],
      "metadata": {
        "id": "dqHHE4xnwcct"
      },
      "execution_count": null,
      "outputs": []
    },
    {
      "cell_type": "code",
      "source": [
        "from sklearn.ensemble import RandomForestRegressor\n",
        "model=RandomForestRegressor()\n",
        "model.fit(X_train,y_train)"
      ],
      "metadata": {
        "id": "OpUoMBRQweXX"
      },
      "execution_count": null,
      "outputs": []
    },
    {
      "cell_type": "code",
      "source": [
        "model.score(X_test,y_test)"
      ],
      "metadata": {
        "id": "Dq6aOBMcwgi8"
      },
      "execution_count": null,
      "outputs": []
    }
  ]
}